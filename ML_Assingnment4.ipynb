{
  "nbformat": 4,
  "nbformat_minor": 0,
  "metadata": {
    "colab": {
      "provenance": []
    },
    "kernelspec": {
      "name": "python3",
      "display_name": "Python 3"
    },
    "language_info": {
      "name": "python"
    }
  },
  "cells": [
    {
      "cell_type": "code",
      "execution_count": 1,
      "metadata": {
        "id": "-sVeUGJ_avFR"
      },
      "outputs": [],
      "source": [
        "import numpy as np\n",
        "import pandas as pd"
      ]
    },
    {
      "cell_type": "code",
      "source": [
        "q1 = pd.read_csv(\"/content/final.csv - Sheet1.csv\")"
      ],
      "metadata": {
        "id": "i49SQwUybM75"
      },
      "execution_count": null,
      "outputs": []
    },
    {
      "cell_type": "code",
      "source": [
        "import seaborn as sns; sns.set_theme()\n",
        "corr = q1.corr()\n",
        "corr\n",
        "ax = sns.heatmap(corr, annot=True)"
      ],
      "metadata": {
        "id": "QFwxvuLXbOWQ"
      },
      "execution_count": null,
      "outputs": []
    },
    {
      "cell_type": "code",
      "source": [
        "Y=q1.iloc[:,0]\n",
        "X=q1.iloc[:,1:]\n",
        "from sklearn.model_selection import train_test_split\n",
        "X_train,X_test,Y_train,Y_test = train_test_split(X,Y,test_size=0.25,random_state=43)\n",
        "from sklearn.preprocessing import StandardScaler\n",
        "ss = StandardScaler()\n",
        "X_train_scaled = ss.fit_transform(X_train)\n",
        "X_test_scaled = ss.transform(X_test)"
      ],
      "metadata": {
        "id": "sHByIrzvbS1M"
      },
      "execution_count": null,
      "outputs": []
    },
    {
      "cell_type": "code",
      "source": [
        "# Appending a column of 1 to consider beta[0][0]\n",
        "X_train_inserting = np.insert(X_train_scaled,0,1,axis=1)\n",
        "X_test_inserting = np.insert(X_test_scaled,0,1,axis=1)\n",
        "Y_train = Y_train.reset_index(drop=True)"
      ],
      "metadata": {
        "id": "rxl53KPFbVFs"
      },
      "execution_count": null,
      "outputs": []
    },
    {
      "cell_type": "code",
      "source": [
        "lr = [0.0001,0.001,0.01,0.1,1,10]\n",
        "lamdas = [10-15,10-10,10-5,10- 3,0,1,10,20]\n",
        "Score = []\n",
        "n=236"
      ],
      "metadata": {
        "id": "nOmt6OFobXGs"
      },
      "execution_count": null,
      "outputs": []
    },
    {
      "cell_type": "code",
      "source": [
        "from sklearn.metrics import r2_score\n",
        "for lamda in lamdas:\n",
        "  for learning_rate in lr:\n",
        "    beta=np.zeros(8)\n",
        "    number_of_iterations=100\n",
        "    for i in range(number_of_iterations):\n",
        "        x0_gradient=0\n",
        "        x1_gradient=0\n",
        "        x2_gradient=0\n",
        "        x3_gradient=0\n",
        "        x4_gradient=0\n",
        "        x5_gradient=0\n",
        "        x6_gradient=0\n",
        "        x7_gradient=0\n",
        "        for j in range(len(X_train)):\n",
        "          a=X_train_inserting[j,0]\n",
        "          b=X_train_inserting[j,1]\n",
        "          c=X_train_inserting[j,2]\n",
        "          d=X_train_inserting[j,3]\n",
        "          e=X_train_inserting[j,4]\n",
        "          f=X_train_inserting[j,5]\n",
        "          g=X_train_inserting[j,6]\n",
        "          h=Y_train[j]\n",
        "          x0_gradient+=(beta[0]+(beta[1]*a)+(beta[2]*b)+(beta[3]*c)+(beta[4]*d)+(beta[5]*e)+(beta[6]*f)+(beta[7]*g)-h)\n",
        "          x1_gradient+=((beta[0]+(beta[1]*a)+(beta[2]*b)+(beta[3]*c)+(beta[4]*d)+(beta[5]*e)+(beta[6]*f)+(beta[7]*g)-h)*a)\n",
        "          x2_gradient+=((beta[0]+(beta[1]*a)+(beta[2]*b)+(beta[3]*c)+(beta[4]*d)+(beta[5]*e)+(beta[6]*f)+(beta[7]*g)-h)*b)\n",
        "          x3_gradient+=((beta[0]+(beta[1]*a)+(beta[2]*b)+(beta[3]*c)+(beta[4]*d)+(beta[5]*e)+(beta[6]*f)+(beta[7]*g)-h)*c)\n",
        "          x4_gradient+=((beta[0]+(beta[1]*a)+(beta[2]*b)+(beta[3]*c)+(beta[4]*d)+(beta[5]*e)+(beta[6]*f)+(beta[7]*g)-h)*d)\n",
        "          x5_gradient+=((beta[0]+(beta[1]*a)+(beta[2]*b)+(beta[3]*c)+(beta[4]*d)+(beta[5]*e)+(beta[6]*f)+(beta[7]*g)-h)*e)\n",
        "          x6_gradient+=((beta[0]+(beta[1]*a)+(beta[2]*b)+(beta[3]*c)+(beta[4]*d)+(beta[5]*e)+(beta[6]*f)+(beta[7]*g)-h)*f)\n",
        "          x7_gradient+=((beta[0]+(beta[1]*a)+(beta[2]*b)+(beta[3]*c)+(beta[4]*d)+(beta[5]*e)+(beta[6]*f)+(beta[7]*g)-h)*g)\n",
        "        beta[0]=beta[0]-learning_rate/n*(x0_gradient+lamda*beta[0])\n",
        "        beta[1]=beta[1]-learning_rate/n*(x1_gradient+lamda*beta[1])\n",
        "        beta[2]=beta[2]-learning_rate/n*(x2_gradient+lamda*beta[2])\n",
        "        beta[3]=beta[3]-learning_rate/n*(x3_gradient+lamda*beta[3])\n",
        "        beta[4]=beta[4]-learning_rate/n*(x4_gradient+lamda*beta[4])\n",
        "        beta[5]=beta[5]-learning_rate/n*(x5_gradient+lamda*beta[5])\n",
        "        beta[6]=beta[6]-learning_rate/n*(x6_gradient+lamda*beta[6])\n",
        "        beta[7]=beta[7]-learning_rate/n*(x7_gradient+lamda*beta[7])\n",
        "        y_pred = X_test_inserting.dot(beta)\n",
        "        Score.append({'lamda':lamda,'lr':learning_rate,'score':r2_score(y_pred,Y_test),'beta':beta})"
      ],
      "metadata": {
        "id": "dZf76VkXbYkF"
      },
      "execution_count": null,
      "outputs": []
    },
    {
      "cell_type": "code",
      "source": [
        "maxScore = 0\n",
        "for i in Score:\n",
        "  maxScore = max(maxScore,i['score'])\n",
        "finalBeta = [final['beta'] for final in Score if final['score'] == maxScore]\n",
        "finalLambda = [final['lamda'] for final in Score if final['score'] == maxScore]\n",
        "\n",
        "finalBeta = finalBeta[0]"
      ],
      "metadata": {
        "id": "YZPzIYRFbc44"
      },
      "execution_count": null,
      "outputs": []
    },
    {
      "cell_type": "code",
      "source": [
        "finalBeta"
      ],
      "metadata": {
        "id": "Yowl6YCTbeme"
      },
      "execution_count": null,
      "outputs": []
    },
    {
      "cell_type": "code",
      "source": [
        "Y_predict_gradient = X_test_inserting.dot(finalBeta)"
      ],
      "metadata": {
        "id": "mVYrStqibgLS"
      },
      "execution_count": null,
      "outputs": []
    },
    {
      "cell_type": "code",
      "source": [
        "error_ridge = Y_test - Y_predict_gradient\n",
        "sum_square_error_ridge =np.sum(np.power(error_ridge,2))\n",
        "mean_square_error_ridge =sum_square_error_ridge/len(Y_predict_gradient)\n",
        "rms_error_ridge=np.sqrt(mean_square_error_ridge)\n",
        "Y_mean_ridge = np.mean(Y_test)\n",
        "total_variance_ridge = np.sum((Y_test-Y_mean_ridge)**2)\n",
        "x = 1-sum_square_error_ridge/total_variance_ridge\n",
        "print(\"The R2_score is: \", x*100)"
      ],
      "metadata": {
        "id": "uKxPJQHbbiCO"
      },
      "execution_count": null,
      "outputs": []
    },
    {
      "cell_type": "code",
      "source": [
        "finalLambda"
      ],
      "metadata": {
        "id": "KMufmPnObjxE"
      },
      "execution_count": null,
      "outputs": []
    },
    {
      "cell_type": "code",
      "source": [
        "lamda = finalLambda\n",
        "A_ridge = X_train_inserting.T.dot(X_train_inserting)\n",
        "I_ridge = np.identity(A_ridge.shape[0])\n",
        "B_ridge = np.linalg.inv(np.add(A_ridge,lamda*I_ridge))\n",
        "C_ridge = B_ridge.dot(X_train_inserting.T)\n",
        "beta_ridge = C_ridge.dot(Y_train)\n",
        "Y_predict_ridge = X_test_inserting.dot(beta_ridge)"
      ],
      "metadata": {
        "id": "jrB-zVHKbliJ"
      },
      "execution_count": null,
      "outputs": []
    },
    {
      "cell_type": "code",
      "source": [
        "error_ridge = Y_test - Y_predict_ridge\n",
        "square_error_ridge = np.power(error_ridge,2)\n",
        "sum_square_error_ridge =np.sum(square_error_ridge)\n",
        "mean_square_error_ridge =sum_square_error_ridge/len(Y_predict_ridge)\n",
        "rms_error_ridge=np.sqrt(mean_square_error_ridge)\n",
        "Y_mean_ridge = np.mean(Y_test)\n",
        "total_variance_ridge = np.sum((Y_test-Y_mean_ridge)**2)\n",
        "x = 1-sum_square_error_ridge/total_variance_ridge\n",
        "print(\"The R2_score is: \", x*100)"
      ],
      "metadata": {
        "id": "xUoOmDKSbqYg"
      },
      "execution_count": null,
      "outputs": []
    },
    {
      "cell_type": "code",
      "source": [
        "# QUESTION 2"
      ],
      "metadata": {
        "id": "U9bm00xxbtKw"
      },
      "execution_count": null,
      "outputs": []
    },
    {
      "cell_type": "code",
      "source": [
        "dataset = pd.read_csv(\"/content/Hitters.csv\")"
      ],
      "metadata": {
        "id": "ododMmbbbyUk"
      },
      "execution_count": null,
      "outputs": []
    },
    {
      "cell_type": "code",
      "source": [
        "dataset"
      ],
      "metadata": {
        "id": "DMeFWm92b0qV"
      },
      "execution_count": null,
      "outputs": []
    },
    {
      "cell_type": "code",
      "source": [
        "dataset.info()"
      ],
      "metadata": {
        "id": "4boS0fFGb2AP"
      },
      "execution_count": null,
      "outputs": []
    },
    {
      "cell_type": "code",
      "source": [
        "import seaborn as sns\n",
        "sns.boxplot(data = dataset)"
      ],
      "metadata": {
        "id": "vwC11Wdbb31K"
      },
      "execution_count": null,
      "outputs": []
    },
    {
      "cell_type": "code",
      "source": [
        "dataset[\"Salary\"].mean()"
      ],
      "metadata": {
        "id": "ZQK2GN2Rb5d_"
      },
      "execution_count": null,
      "outputs": []
    },
    {
      "cell_type": "code",
      "source": [
        "dataset[\"Salary\"].median()"
      ],
      "metadata": {
        "id": "TyU2Dn37b873"
      },
      "execution_count": null,
      "outputs": []
    },
    {
      "cell_type": "code",
      "source": [
        "# replace NaN values with central tendency: mean\n",
        "dataset['Salary'] = dataset['Salary'].replace(np.nan, dataset[\"Salary\"].mean())"
      ],
      "metadata": {
        "id": "HYbZbXdqb_tW"
      },
      "execution_count": null,
      "outputs": []
    },
    {
      "cell_type": "code",
      "source": [
        "print(dataset.Division.unique())\n",
        "print(dataset.League.unique())\n",
        "print(dataset.NewLeague.unique())"
      ],
      "metadata": {
        "id": "Ptau__dfcBc4"
      },
      "execution_count": null,
      "outputs": []
    },
    {
      "cell_type": "code",
      "source": [
        "# using label encoding\n",
        "\n",
        "# E = 1 ; W = 0\n",
        "dataset['Division'].replace(\"E\", 1, inplace = True)\n",
        "dataset['Division'].replace(\"W\", 0, inplace = True)\n",
        "\n",
        "# A = 1 ; N = 0\n",
        "dataset['League'].replace(\"A\", 1, inplace = True)\n",
        "dataset['League'].replace(\"N\", 0, inplace = True)\n",
        "dataset['NewLeague'].replace(\"A\", 1, inplace = True)\n",
        "dataset['NewLeague'].replace(\"N\", 0, inplace = True)"
      ],
      "metadata": {
        "id": "L9_nH7pUcDwv"
      },
      "execution_count": null,
      "outputs": []
    },
    {
      "cell_type": "code",
      "source": [
        "dataset"
      ],
      "metadata": {
        "id": "n7fiBB71cFmO"
      },
      "execution_count": null,
      "outputs": []
    },
    {
      "cell_type": "code",
      "source": [
        "# split data\n",
        "X = dataset.iloc[:,:-1]\n",
        "Y = dataset.iloc[:,-1]"
      ],
      "metadata": {
        "id": "8sQpwJgkcHjN"
      },
      "execution_count": null,
      "outputs": []
    },
    {
      "cell_type": "code",
      "source": [
        "from sklearn.model_selection import train_test_split\n",
        "X_train, X_test, Y_train, Y_test = train_test_split(X,Y,test_size =0.25, random_state = 42 )"
      ],
      "metadata": {
        "id": "-hUAh3wpcKeM"
      },
      "execution_count": null,
      "outputs": []
    },
    {
      "cell_type": "code",
      "source": [
        "from sklearn.preprocessing import StandardScaler\n",
        "# create object\n",
        "scaler = StandardScaler()\n",
        "\n",
        "# to avoid data leakage:\n",
        "# fit transformm for training data\n",
        "X_train_scaled = scaler.fit_transform(X_train)\n",
        "# fit for test data\n",
        "X_test_scaled = scaler.transform(X_test)"
      ],
      "metadata": {
        "id": "BDxVAWe-cLKM"
      },
      "execution_count": null,
      "outputs": []
    },
    {
      "cell_type": "code",
      "source": [
        "# add a column of one for beta 0 coeff\n",
        "X_train_scaled = np.insert(X_train_scaled, 0, 1,axis =1)\n",
        "X_test_scaled = np.insert(X_test_scaled, 0, 1,axis = 1)"
      ],
      "metadata": {
        "id": "AfLgLaw2cNil"
      },
      "execution_count": null,
      "outputs": []
    },
    {
      "cell_type": "code",
      "source": [
        "# Finding Regression Coefficients\n",
        "\n",
        "# Compute the regression coefficients for which\n",
        "# mean least square error is minimum.\n",
        "\n",
        "# LSE method, the mean square error is minimum when ￼\n",
        "# B^ = inv(Xt X) Xt y\n",
        "A=X_train_scaled.T.dot(X_train_scaled)\n",
        "B=np.linalg.inv(A)\n",
        "C=B.dot(X_train_scaled.T)\n",
        "beta=C.dot(Y_train)\n",
        "# print(\"the Beta values for the features are:\")\n",
        "# print(beta)"
      ],
      "metadata": {
        "id": "ZsmK6inucPco"
      },
      "execution_count": null,
      "outputs": []
    },
    {
      "cell_type": "code",
      "source": [
        "#  Predicting values on test set\n",
        "# It is done by multiplying X_test set with optimal Beta matrix\n",
        "Y_predict = X_test_scaled.dot(beta)"
      ],
      "metadata": {
        "id": "B5US5HSkcRhA"
      },
      "execution_count": null,
      "outputs": []
    },
    {
      "cell_type": "code",
      "source": [
        "# Performance Evaluation\n",
        "\n",
        "#computing error between the predicted and actual values\n",
        "\n",
        "# Error\n",
        "error = Y_test - Y_predict\n",
        "\n",
        "# Sum square Error\n",
        "square_error=np.power(error,2)\n",
        "sum_square_error=np.sum(square_error)\n",
        "\n",
        "# Mean Square Error\n",
        "# rme = [sum(y-y^)^2] /n\n",
        "mean_square_error=sum_square_error/len(Y_predict)\n",
        "print(\"The mean square error is: \", mean_square_error)\n",
        "\n",
        "# Root Mean Square Error\n",
        "# rsme = root rme)\n",
        "rms_error=np.sqrt(mean_square_error)\n",
        "print(\"The root mean square error is: \", rms_error)\n",
        "\n",
        "# R2_score\n",
        "Y_mean=np.mean(Y_test)\n",
        "total_variance=np.sum((Y_test-Y_mean)**2)\n",
        "print(\"The R2_score is: \", 1-sum_square_error/total_variance)"
      ],
      "metadata": {
        "id": "2tSMlaTgcS5-"
      },
      "execution_count": null,
      "outputs": []
    },
    {
      "cell_type": "code",
      "source": [
        "# RIDGE"
      ],
      "metadata": {
        "id": "NPHiNKKVcU9T"
      },
      "execution_count": null,
      "outputs": []
    },
    {
      "cell_type": "code",
      "source": [
        "lamda = 0.5748\n",
        "A_ridge = X_train_scaled.T.dot(X_train_scaled)\n",
        "I_ridge = np.identity(A_ridge.shape[0])\n",
        "B_ridge = np.linalg.inv(np.add(A_ridge,lamda*I_ridge))\n",
        "C_ridge = B_ridge.dot(X_train_scaled.T)\n",
        "beta_ridge = C_ridge.dot(Y_train)"
      ],
      "metadata": {
        "id": "v0BllIAjcWXI"
      },
      "execution_count": null,
      "outputs": []
    },
    {
      "cell_type": "code",
      "source": [
        "#  Predicting values on test set\n",
        "# It is done by multiplying X_test set with optimal Beta matrix\n",
        "Y_predict_ridge = X_test_scaled.dot(beta_ridge)"
      ],
      "metadata": {
        "id": "T-QkvCK9ca5p"
      },
      "execution_count": null,
      "outputs": []
    },
    {
      "cell_type": "code",
      "source": [
        "# LASSO"
      ],
      "metadata": {
        "id": "kjQ4jKrAccvs"
      },
      "execution_count": null,
      "outputs": []
    },
    {
      "cell_type": "code",
      "source": [
        "from sklearn.model_selection import train_test_split\n",
        "X_train, X_test, Y_train, Y_test = train_test_split(X,Y,test_size =0.25, random_state = 42 )"
      ],
      "metadata": {
        "id": "n2fkdcNychyo"
      },
      "execution_count": null,
      "outputs": []
    },
    {
      "cell_type": "code",
      "source": [
        "from sklearn.linear_model import Ridge,Lasso\n",
        "from sklearn.metrics import r2_score\n",
        "lasso_regression=Lasso(alpha=0.5478)\n",
        "lasso_regression.fit(X_train,Y_train)\n",
        "y_predict_lasso=lasso_regression.predict(X_test)"
      ],
      "metadata": {
        "id": "bOXqG-apcl26"
      },
      "execution_count": null,
      "outputs": []
    },
    {
      "cell_type": "code",
      "source": [
        "# Performance Evaluation\n",
        "\n",
        "#computing error between the predicted and actual values\n",
        "\n",
        "# Error\n",
        "error_ridge = Y_test - Y_predict_ridge\n",
        "\n",
        "# Sum square Error\n",
        "square_error_ridge = np.power(error_ridge,2)\n",
        "sum_square_error_ridge =np.sum(square_error_ridge)\n",
        "\n",
        "# Mean Square Error\n",
        "# rme = [sum(y-y^)^2] /n\n",
        "mean_square_error_ridge =sum_square_error_ridge/len(Y_predict_ridge)\n",
        "print(\"The mean square error is: \", mean_square_error_ridge)\n",
        "\n",
        "# Root Mean Square Error\n",
        "# rsme = root rme)\n",
        "rms_error_ridge=np.sqrt(mean_square_error_ridge)\n",
        "print(\"The root mean square error is: \", rms_error_ridge)\n",
        "\n",
        "# R2_score\n",
        "Y_mean_ridge = np.mean(Y_test)\n",
        "total_variance_ridge = np.sum((Y_test-Y_mean_ridge)**2)\n",
        "print(\"The R2_score is: \", 1-sum_square_error_ridge/total_variance_ridge)"
      ],
      "metadata": {
        "id": "o7IyypsVcngR"
      },
      "execution_count": null,
      "outputs": []
    },
    {
      "cell_type": "code",
      "source": [
        "lasso_regression.score(X_test,Y_test)\n",
        "# r2_score(Y_test, y_predict_lasso)"
      ],
      "metadata": {
        "id": "MCyFwBvkcrP5"
      },
      "execution_count": null,
      "outputs": []
    },
    {
      "cell_type": "code",
      "source": [
        "# QUESTION 3"
      ],
      "metadata": {
        "id": "cmu8XvZcctMi"
      },
      "execution_count": null,
      "outputs": []
    },
    {
      "cell_type": "code",
      "source": [
        "from sklearn.linear_model import RidgeCV, LassoCV\n",
        "from sklearn.datasets import load_boston\n",
        "from sklearn.preprocessing import StandardScaler\n",
        "from sklearn.metrics import r2_score\n",
        "from sklearn.model_selection import train_test_split"
      ],
      "metadata": {
        "id": "_tW5bdzHcw4X"
      },
      "execution_count": null,
      "outputs": []
    },
    {
      "cell_type": "code",
      "source": [
        "X,y = load_boston(return_X_y = True)\n",
        "X_train,X_test,y_train,y_test = train_test_split(X,y,test_size = 0.20,random_state = 1)"
      ],
      "metadata": {
        "id": "WwRdrpL5c0qC"
      },
      "execution_count": null,
      "outputs": []
    },
    {
      "cell_type": "code",
      "source": [
        "rid = RidgeCV([1e-3,1e-2,1e-1,1],cv=5).fit(X_train,y_train)\n",
        "predictions = rid.predict(X_test)\n",
        "r2_score(predictions,y_test)\n",
        "rid.score(X_test,y_test)"
      ],
      "metadata": {
        "id": "Nax1FEuVc2dX"
      },
      "execution_count": null,
      "outputs": []
    },
    {
      "cell_type": "code",
      "source": [
        "las = LassoCV(alphas=[1e-3,1e-2,1e-1,1],cv=5).fit(X_train,y_train)\n",
        "predictions = las.predict(X_test)\n",
        "r2_score(predictions,y_test)\n",
        "las.score(X_test,y_test)"
      ],
      "metadata": {
        "id": "LUtfkb5gc4UC"
      },
      "execution_count": null,
      "outputs": []
    }
  ]
}